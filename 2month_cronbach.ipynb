{
  "nbformat": 4,
  "nbformat_minor": 0,
  "metadata": {
    "colab": {
      "provenance": []
    },
    "kernelspec": {
      "name": "python3",
      "display_name": "Python 3"
    },
    "language_info": {
      "name": "python"
    }
  },
  "cells": [
    {
      "cell_type": "code",
      "source": [
        "!pip install numpy\n",
        "!pip install pandas\n",
        "!pip install pingouin"
      ],
      "metadata": {
        "colab": {
          "base_uri": "https://localhost:8080/"
        },
        "id": "YXbPQ3P_X6CC",
        "outputId": "c8e17d9e-4b17-4f82-d893-78e07d825a61"
      },
      "execution_count": null,
      "outputs": [
        {
          "output_type": "stream",
          "name": "stdout",
          "text": [
            "Requirement already satisfied: numpy in /usr/local/lib/python3.10/dist-packages (1.23.5)\n",
            "Requirement already satisfied: pandas in /usr/local/lib/python3.10/dist-packages (1.5.3)\n",
            "Requirement already satisfied: python-dateutil>=2.8.1 in /usr/local/lib/python3.10/dist-packages (from pandas) (2.8.2)\n",
            "Requirement already satisfied: pytz>=2020.1 in /usr/local/lib/python3.10/dist-packages (from pandas) (2023.3.post1)\n",
            "Requirement already satisfied: numpy>=1.21.0 in /usr/local/lib/python3.10/dist-packages (from pandas) (1.23.5)\n",
            "Requirement already satisfied: six>=1.5 in /usr/local/lib/python3.10/dist-packages (from python-dateutil>=2.8.1->pandas) (1.16.0)\n",
            "Requirement already satisfied: pingouin in /usr/local/lib/python3.10/dist-packages (0.5.3)\n",
            "Requirement already satisfied: numpy>=1.19 in /usr/local/lib/python3.10/dist-packages (from pingouin) (1.23.5)\n",
            "Requirement already satisfied: scipy>=1.7 in /usr/local/lib/python3.10/dist-packages (from pingouin) (1.11.4)\n",
            "Requirement already satisfied: pandas>=1.0 in /usr/local/lib/python3.10/dist-packages (from pingouin) (1.5.3)\n",
            "Requirement already satisfied: matplotlib>=3.0.2 in /usr/local/lib/python3.10/dist-packages (from pingouin) (3.7.1)\n",
            "Requirement already satisfied: seaborn>=0.11 in /usr/local/lib/python3.10/dist-packages (from pingouin) (0.12.2)\n",
            "Requirement already satisfied: statsmodels>=0.13 in /usr/local/lib/python3.10/dist-packages (from pingouin) (0.14.0)\n",
            "Requirement already satisfied: scikit-learn in /usr/local/lib/python3.10/dist-packages (from pingouin) (1.2.2)\n",
            "Requirement already satisfied: pandas-flavor>=0.2.0 in /usr/local/lib/python3.10/dist-packages (from pingouin) (0.6.0)\n",
            "Requirement already satisfied: outdated in /usr/local/lib/python3.10/dist-packages (from pingouin) (0.2.2)\n",
            "Requirement already satisfied: tabulate in /usr/local/lib/python3.10/dist-packages (from pingouin) (0.9.0)\n",
            "Requirement already satisfied: contourpy>=1.0.1 in /usr/local/lib/python3.10/dist-packages (from matplotlib>=3.0.2->pingouin) (1.2.0)\n",
            "Requirement already satisfied: cycler>=0.10 in /usr/local/lib/python3.10/dist-packages (from matplotlib>=3.0.2->pingouin) (0.12.1)\n",
            "Requirement already satisfied: fonttools>=4.22.0 in /usr/local/lib/python3.10/dist-packages (from matplotlib>=3.0.2->pingouin) (4.46.0)\n",
            "Requirement already satisfied: kiwisolver>=1.0.1 in /usr/local/lib/python3.10/dist-packages (from matplotlib>=3.0.2->pingouin) (1.4.5)\n",
            "Requirement already satisfied: packaging>=20.0 in /usr/local/lib/python3.10/dist-packages (from matplotlib>=3.0.2->pingouin) (23.2)\n",
            "Requirement already satisfied: pillow>=6.2.0 in /usr/local/lib/python3.10/dist-packages (from matplotlib>=3.0.2->pingouin) (9.4.0)\n",
            "Requirement already satisfied: pyparsing>=2.3.1 in /usr/local/lib/python3.10/dist-packages (from matplotlib>=3.0.2->pingouin) (3.1.1)\n",
            "Requirement already satisfied: python-dateutil>=2.7 in /usr/local/lib/python3.10/dist-packages (from matplotlib>=3.0.2->pingouin) (2.8.2)\n",
            "Requirement already satisfied: pytz>=2020.1 in /usr/local/lib/python3.10/dist-packages (from pandas>=1.0->pingouin) (2023.3.post1)\n",
            "Requirement already satisfied: xarray in /usr/local/lib/python3.10/dist-packages (from pandas-flavor>=0.2.0->pingouin) (2023.7.0)\n",
            "Requirement already satisfied: patsy>=0.5.2 in /usr/local/lib/python3.10/dist-packages (from statsmodels>=0.13->pingouin) (0.5.4)\n",
            "Requirement already satisfied: setuptools>=44 in /usr/local/lib/python3.10/dist-packages (from outdated->pingouin) (67.7.2)\n",
            "Requirement already satisfied: littleutils in /usr/local/lib/python3.10/dist-packages (from outdated->pingouin) (0.2.2)\n",
            "Requirement already satisfied: requests in /usr/local/lib/python3.10/dist-packages (from outdated->pingouin) (2.31.0)\n",
            "Requirement already satisfied: joblib>=1.1.1 in /usr/local/lib/python3.10/dist-packages (from scikit-learn->pingouin) (1.3.2)\n",
            "Requirement already satisfied: threadpoolctl>=2.0.0 in /usr/local/lib/python3.10/dist-packages (from scikit-learn->pingouin) (3.2.0)\n",
            "Requirement already satisfied: six in /usr/local/lib/python3.10/dist-packages (from patsy>=0.5.2->statsmodels>=0.13->pingouin) (1.16.0)\n",
            "Requirement already satisfied: charset-normalizer<4,>=2 in /usr/local/lib/python3.10/dist-packages (from requests->outdated->pingouin) (3.3.2)\n",
            "Requirement already satisfied: idna<4,>=2.5 in /usr/local/lib/python3.10/dist-packages (from requests->outdated->pingouin) (3.6)\n",
            "Requirement already satisfied: urllib3<3,>=1.21.1 in /usr/local/lib/python3.10/dist-packages (from requests->outdated->pingouin) (2.0.7)\n",
            "Requirement already satisfied: certifi>=2017.4.17 in /usr/local/lib/python3.10/dist-packages (from requests->outdated->pingouin) (2023.11.17)\n"
          ]
        }
      ]
    },
    {
      "cell_type": "code",
      "source": [
        "import numpy as np\n",
        "import pandas as pd\n",
        "\n",
        "# Replace the given data with your own\n",
        "your_data = \"\"\"\n",
        "2,3,2,4,2,3,3,3,4,3,4,2,3,3,3,2,4,2,3,3\n",
        "3,3,2,3,2,3,3,3,4,2,3,3,3,3,3,2,4,3,2,3\n",
        "2,2,2,1,1,2,2,2,4,2,2,2,3,3,1,3,3,2,1,2\n",
        "3,3,3,3,2,1,3,3,2,3,2,3,3,3,2,2,2,3,1,2\n",
        "2,2,2,3,2,2,2,2,2,2,3,2,2,2,3,2,3,2,2,2\n",
        "2,3,3,2,2,3,1,2,2,3,2,2,2,2,2,2,2,3,3,3\n",
        "2,3,3,3,2,2,3,3,2,2,3,3,2,3,2,2,2,3,2,2\n",
        "3,2,3,3,2,2,3,3,3,3,3,2,3,3,3,2,2,2,2,3\n",
        "2,2,2,3,2,2,2,3,2,2,2,3,2,3,3,2,1,2,2,3\n",
        "2,2,2,3,2,2,3,3,3,3,4,2,3,2,1,3,3,2,2,2\n",
        "2,1,1,1,2,2,1,1,3,2,1,2,1,1,1,1,4,2,1,1\n",
        "3,3,2,2,3,3,4,3,4,4,4,4,4,3,2,2,3,4,2,2\n",
        "2,2,2,2,2,1,2,1,2,1,1,2,2,2,2,1,3,1,1,1\n",
        "2,3,2,2,2,2,2,2,1,2,2,2,2,2,1,2,2,3,2,2\n",
        "2,4,4,4,3,3,3,3,4,3,4,2,3,4,4,3,3,4,3,3\n",
        "3,3,2,3,2,2,3,3,4,3,4,3,3,3,4,3,3,3,1,3\n",
        "2,3,3,3,3,3,3,4,3,2,3,3,4,3,3,3,4,3,3,3\n",
        "3,4,3,3,3,3,4,4,3,3,3,4,4,3,2,1,1,4,2,2\n",
        "3,3,3,3,3,3,2,2,2,3,3,3,3,3,3,3,3,3,3,3\n",
        "2,1,1,1,1,1,1,1,3,2,1,1,1,1,1,1,1,1,1,1\n",
        "3,2,2,3,3,2,2,3,4,4,3,3,2,3,3,3,4,3,2,3\n",
        "1,3,3,3,2,2,3,3,2,2,3,3,3,3,2,2,3,3,2,2\n",
        "2,1,1,2,2,2,1,3,3,2,2,1,1,2,2,2,3,3,2,2\n",
        "3,4,3,3,3,3,3,3,4,3,4,3,2,4,3,3,4,3,2,2\n",
        "3,2,2,2,3,3,2,2,4,3,2,2,2,2,3,3,3,2,3,3\n",
        "3,2,1,3,3,3,1,2,4,3,2,2,1,2,3,2,4,1,1,1\n",
        "2,3,1,3,2,2,1,3,4,2,2,3,2,2,2,2,3,3,3,2\n",
        "3,3,3,3,2,1,2,1,4,2,3,1,2,1,2,3,4,1,1,3\n",
        "\"\"\"\n",
        "\n",
        "# Convert the string to a list of lists\n",
        "your_data = [list(map(int, line.split(','))) for line in your_data.strip().split('\\n')]\n",
        "\n",
        "# Convert the list of lists to a NumPy array\n",
        "your_array = np.array(your_data)\n",
        "\n",
        "# Convert the array to a DataFrame\n",
        "your_df = pd.DataFrame(your_array)\n",
        "\n",
        "# Calculate Cronbach's Alpha\n",
        "alpha = cronbach_alpha(your_df)\n",
        "\n",
        "# Print the result\n",
        "print(\"Cronbach's Alpha:\", alpha)\n"
      ],
      "metadata": {
        "colab": {
          "base_uri": "https://localhost:8080/"
        },
        "id": "-x7_VaU5AjMH",
        "outputId": "cf025c9b-9ab8-466f-c11c-2db36469e617"
      },
      "execution_count": null,
      "outputs": [
        {
          "output_type": "stream",
          "name": "stdout",
          "text": [
            "Cronbach's Alpha: (0.9191615781799843, array([0.868, 0.957]))\n"
          ]
        }
      ]
    },
    {
      "cell_type": "code",
      "source": [
        "import numpy as np\n",
        "import pandas as pd\n",
        "\n",
        "# Replace the given data with your own\n",
        "your_data = \"\"\"\n",
        "1,3,3,2,3,3,0,3,0\n",
        "1,1,2,2,2,0,1,0,0\n",
        "2,2,2,3,3,3,3,2,3\n",
        "1,0,0,2,0,0,0,1,0\n",
        "1,1,0,0,0,0,0,0,0\n",
        "1,1,1,1,1,0,1,1,0\n",
        "0,1,1,1,0,1,0,0,0\n",
        "1,2,2,2,0,0,0,0,0\n",
        "1,1,1,1,2,0,1,0,0\n",
        "1,2,1,2,3,3,1,0,1\n",
        "1,0,0,1,1,1,0,0,0\n",
        "1,0,0,1,0,0,1,0,0\n",
        "1,1,3,2,3,0,2,0,0\n",
        "1,1,1,2,1,2,1,0,0\n",
        "1,0,0,1,2,0,0,0,0\n",
        "0,0,0,0,0,0,0,0,1\n",
        "1,1,1,2,1,1,0,0,0\n",
        "2,1,3,3,3,2,3,2,0\n",
        "3,1,1,2,1,0,1,0,0\n",
        "2,2,1,3,1,2,1,1,0\n",
        "1,1,2,1,2,0,0,0,0\n",
        "0,0,0,0,0,0,0,0,0\n",
        "3,2,3,2,2,2,1,0,1\n",
        "3,3,3,3,3,2,3,1,0\n",
        "3,3,2,2,3,3,1,0,0\n",
        "1,0,0,1,1,0,0,0,0\n",
        "1,0,0,1,0,0,1,0,0\n",
        "3,3,3,3,3,3,3,3,3\n",
        "1,0,2,0,1,0,0,0,0\n",
        "1,2,0,2,1,3,1,3,2\n",
        "1,1,0,1,0,0,1,0,0\n",
        "0,1,1,1,1,0,1,0,0\n",
        "1,0,1,1,2,0,0,0,0\n",
        "1,1,0,1,0,1,0,0,0\n",
        "1,1,1,1,0,0,0,0,0\n",
        "2,2,1,2,2,1,1,1,0\n",
        "1,1,1,2,1,0,0,0,0\n",
        "2,2,0,3,0,3,1,0,0\n",
        "1,2,2,1,2,0,2,0,0\n",
        "1,1,3,1,3,1,1,1,0\n",
        "2,1,2,3,1,2,1,1,0\n",
        "1,1,1,1,0,0,1,0,0\n",
        "0,0,0,0,0,0,0,0,0\n",
        "3,3,2,3,1,2,1,0,0\n",
        "0,0,1,1,1,1,0,0,0\n",
        "1,1,1,1,0,0,2,0,0\n",
        "2,1,1,2,2,2,3,1,0\n",
        "2,2,1,1,0,2,1,0,0\n",
        "1,0,1,1,1,0,0,0,0\n",
        "1,1,3,3,1,0,2,1,0\n",
        "3,3,1,1,2,2,0,0,1\n",
        "1,1,0,1,0,1,1,0,0\n",
        "3,1,1,2,1,0,0,0,0\n",
        "1,1,0,1,1,0,1,0,0\n",
        "2,2,2,2,2,3,2,1,0\n",
        "1,1,1,1,0,1,0,2,0\n",
        "1,2,3,2,3,1,1,0,1\n",
        "0,1,1,2,1,1,1,1,0\n",
        "0,1,1,1,1,1,0,0,0\n",
        "1,1,1,1,0,3,2,0,1\n",
        "3,3,3,3,3,3,3,2,3\n",
        "0,1,2,2,3,2,0,0,1\n",
        "\"\"\"\n",
        "\n",
        "# Convert the string to a list of lists\n",
        "your_data = [list(map(int, line.split(','))) for line in your_data.strip().split('\\n')]\n",
        "\n",
        "# Convert the list of lists to a NumPy array\n",
        "your_array = np.array(your_data)\n",
        "\n",
        "# Convert the array to a DataFrame\n",
        "your_df = pd.DataFrame(your_array)\n",
        "\n",
        "# Calculate Cronbach's Alpha\n",
        "alpha = cronbach_alpha(your_df)\n",
        "\n",
        "# Print the result\n",
        "print(\"Cronbach's Alpha:\", alpha)"
      ],
      "metadata": {
        "colab": {
          "base_uri": "https://localhost:8080/"
        },
        "outputId": "cfc62d8c-c5d8-4c21-f69a-6ce480b7e95a",
        "id": "pGWkoLvpR9Y9"
      },
      "execution_count": null,
      "outputs": [
        {
          "output_type": "stream",
          "name": "stdout",
          "text": [
            "Cronbach's Alpha: (0.886130998993176, array([0.838, 0.924]))\n"
          ]
        }
      ]
    }
  ]
}