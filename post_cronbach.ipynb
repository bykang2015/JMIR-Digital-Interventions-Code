{
  "nbformat": 4,
  "nbformat_minor": 0,
  "metadata": {
    "colab": {
      "provenance": []
    },
    "kernelspec": {
      "name": "python3",
      "display_name": "Python 3"
    },
    "language_info": {
      "name": "python"
    }
  },
  "cells": [
    {
      "cell_type": "code",
      "source": [
        "!pip install numpy\n",
        "!pip install pandas\n",
        "!pip install pingouin"
      ],
      "metadata": {
        "colab": {
          "base_uri": "https://localhost:8080/"
        },
        "id": "YXbPQ3P_X6CC",
        "outputId": "2d762b20-0292-4379-ec45-d77298de7f31"
      },
      "execution_count": null,
      "outputs": [
        {
          "output_type": "stream",
          "name": "stdout",
          "text": [
            "Requirement already satisfied: numpy in /usr/local/lib/python3.10/dist-packages (1.23.5)\n",
            "Requirement already satisfied: pandas in /usr/local/lib/python3.10/dist-packages (1.5.3)\n",
            "Requirement already satisfied: python-dateutil>=2.8.1 in /usr/local/lib/python3.10/dist-packages (from pandas) (2.8.2)\n",
            "Requirement already satisfied: pytz>=2020.1 in /usr/local/lib/python3.10/dist-packages (from pandas) (2023.3.post1)\n",
            "Requirement already satisfied: numpy>=1.21.0 in /usr/local/lib/python3.10/dist-packages (from pandas) (1.23.5)\n",
            "Requirement already satisfied: six>=1.5 in /usr/local/lib/python3.10/dist-packages (from python-dateutil>=2.8.1->pandas) (1.16.0)\n",
            "Collecting pingouin\n",
            "  Downloading pingouin-0.5.3-py3-none-any.whl (198 kB)\n",
            "\u001b[2K     \u001b[90m━━━━━━━━━━━━━━━━━━━━━━━━━━━━━━━━━━━━━━━━\u001b[0m \u001b[32m198.6/198.6 kB\u001b[0m \u001b[31m1.5 MB/s\u001b[0m eta \u001b[36m0:00:00\u001b[0m\n",
            "\u001b[?25hRequirement already satisfied: numpy>=1.19 in /usr/local/lib/python3.10/dist-packages (from pingouin) (1.23.5)\n",
            "Requirement already satisfied: scipy>=1.7 in /usr/local/lib/python3.10/dist-packages (from pingouin) (1.11.4)\n",
            "Requirement already satisfied: pandas>=1.0 in /usr/local/lib/python3.10/dist-packages (from pingouin) (1.5.3)\n",
            "Requirement already satisfied: matplotlib>=3.0.2 in /usr/local/lib/python3.10/dist-packages (from pingouin) (3.7.1)\n",
            "Requirement already satisfied: seaborn>=0.11 in /usr/local/lib/python3.10/dist-packages (from pingouin) (0.12.2)\n",
            "Requirement already satisfied: statsmodels>=0.13 in /usr/local/lib/python3.10/dist-packages (from pingouin) (0.14.0)\n",
            "Requirement already satisfied: scikit-learn in /usr/local/lib/python3.10/dist-packages (from pingouin) (1.2.2)\n",
            "Collecting pandas-flavor>=0.2.0 (from pingouin)\n",
            "  Downloading pandas_flavor-0.6.0-py3-none-any.whl (7.2 kB)\n",
            "Collecting outdated (from pingouin)\n",
            "  Downloading outdated-0.2.2-py2.py3-none-any.whl (7.5 kB)\n",
            "Requirement already satisfied: tabulate in /usr/local/lib/python3.10/dist-packages (from pingouin) (0.9.0)\n",
            "Requirement already satisfied: contourpy>=1.0.1 in /usr/local/lib/python3.10/dist-packages (from matplotlib>=3.0.2->pingouin) (1.2.0)\n",
            "Requirement already satisfied: cycler>=0.10 in /usr/local/lib/python3.10/dist-packages (from matplotlib>=3.0.2->pingouin) (0.12.1)\n",
            "Requirement already satisfied: fonttools>=4.22.0 in /usr/local/lib/python3.10/dist-packages (from matplotlib>=3.0.2->pingouin) (4.46.0)\n",
            "Requirement already satisfied: kiwisolver>=1.0.1 in /usr/local/lib/python3.10/dist-packages (from matplotlib>=3.0.2->pingouin) (1.4.5)\n",
            "Requirement already satisfied: packaging>=20.0 in /usr/local/lib/python3.10/dist-packages (from matplotlib>=3.0.2->pingouin) (23.2)\n",
            "Requirement already satisfied: pillow>=6.2.0 in /usr/local/lib/python3.10/dist-packages (from matplotlib>=3.0.2->pingouin) (9.4.0)\n",
            "Requirement already satisfied: pyparsing>=2.3.1 in /usr/local/lib/python3.10/dist-packages (from matplotlib>=3.0.2->pingouin) (3.1.1)\n",
            "Requirement already satisfied: python-dateutil>=2.7 in /usr/local/lib/python3.10/dist-packages (from matplotlib>=3.0.2->pingouin) (2.8.2)\n",
            "Requirement already satisfied: pytz>=2020.1 in /usr/local/lib/python3.10/dist-packages (from pandas>=1.0->pingouin) (2023.3.post1)\n",
            "Requirement already satisfied: xarray in /usr/local/lib/python3.10/dist-packages (from pandas-flavor>=0.2.0->pingouin) (2023.7.0)\n",
            "Requirement already satisfied: patsy>=0.5.2 in /usr/local/lib/python3.10/dist-packages (from statsmodels>=0.13->pingouin) (0.5.4)\n",
            "Requirement already satisfied: setuptools>=44 in /usr/local/lib/python3.10/dist-packages (from outdated->pingouin) (67.7.2)\n",
            "Collecting littleutils (from outdated->pingouin)\n",
            "  Downloading littleutils-0.2.2.tar.gz (6.6 kB)\n",
            "  Preparing metadata (setup.py) ... \u001b[?25l\u001b[?25hdone\n",
            "Requirement already satisfied: requests in /usr/local/lib/python3.10/dist-packages (from outdated->pingouin) (2.31.0)\n",
            "Requirement already satisfied: joblib>=1.1.1 in /usr/local/lib/python3.10/dist-packages (from scikit-learn->pingouin) (1.3.2)\n",
            "Requirement already satisfied: threadpoolctl>=2.0.0 in /usr/local/lib/python3.10/dist-packages (from scikit-learn->pingouin) (3.2.0)\n",
            "Requirement already satisfied: six in /usr/local/lib/python3.10/dist-packages (from patsy>=0.5.2->statsmodels>=0.13->pingouin) (1.16.0)\n",
            "Requirement already satisfied: charset-normalizer<4,>=2 in /usr/local/lib/python3.10/dist-packages (from requests->outdated->pingouin) (3.3.2)\n",
            "Requirement already satisfied: idna<4,>=2.5 in /usr/local/lib/python3.10/dist-packages (from requests->outdated->pingouin) (3.6)\n",
            "Requirement already satisfied: urllib3<3,>=1.21.1 in /usr/local/lib/python3.10/dist-packages (from requests->outdated->pingouin) (2.0.7)\n",
            "Requirement already satisfied: certifi>=2017.4.17 in /usr/local/lib/python3.10/dist-packages (from requests->outdated->pingouin) (2023.11.17)\n",
            "Building wheels for collected packages: littleutils\n",
            "  Building wheel for littleutils (setup.py) ... \u001b[?25l\u001b[?25hdone\n",
            "  Created wheel for littleutils: filename=littleutils-0.2.2-py3-none-any.whl size=7026 sha256=7d7199bd67a4e4389121b707e38a6518d4f0ede76d18c7b148cd9f452ae703ba\n",
            "  Stored in directory: /root/.cache/pip/wheels/3d/fe/b0/27a9892da57472e538c7452a721a9cf463cc03cf7379889266\n",
            "Successfully built littleutils\n",
            "Installing collected packages: littleutils, outdated, pandas-flavor, pingouin\n",
            "Successfully installed littleutils-0.2.2 outdated-0.2.2 pandas-flavor-0.6.0 pingouin-0.5.3\n"
          ]
        }
      ]
    },
    {
      "cell_type": "code",
      "source": [
        "import numpy as np\n",
        "import pandas as pd\n",
        "from pingouin import cronbach_alpha"
      ],
      "metadata": {
        "id": "MK3Gs4iIftyp"
      },
      "execution_count": null,
      "outputs": []
    },
    {
      "cell_type": "code",
      "source": [
        "import numpy as np\n",
        "import pandas as pd\n",
        "\n",
        "# Replace the given data with your own\n",
        "your_data = \"\"\"\n",
        "2,2,2,4,2,2,2,2,3,3,4,1,2,3,3,3,3,3,2,2\n",
        "3,4,2,3,1,2,2,3,3,2,2,2,2,3,3,2,3,2,2,2\n",
        "3,2,3,3,3,3,2,2,4,2,3,3,3,3,3,3,4,3,2,2\n",
        "3,2,2,2,3,2,2,2,3,3,2,3,3,2,3,3,2,2,3,3\n",
        "2,3,2,2,2,3,2,2,4,3,3,2,1,1,2,1,2,3,3,2\n",
        "2,1,1,2,2,2,3,3,2,2,2,3,3,3,1,2,3,3,1,2\n",
        "2,2,2,3,3,2,2,3,2,3,3,3,2,3,3,2,3,3,2,2\n",
        "3,3,3,3,3,3,2,2,3,3,2,3,3,3,2,3,2,2,3,2\n",
        "2,3,3,3,2,2,2,3,2,2,3,3,2,3,2,2,2,3,2,2\n",
        "1,2,2,2,1,1,1,2,3,1,2,1,2,1,3,1,3,2,1,2\n",
        "2,1,1,1,2,2,1,1,4,2,1,3,1,1,2,1,3,2,1,1\n",
        "3,4,2,3,3,3,4,3,4,3,3,3,4,3,3,3,3,4,2,2\n",
        "3,3,3,3,3,3,3,2,4,3,3,4,4,2,3,4,4,3,1,3\n",
        "3,2,2,3,2,2,2,2,2,3,2,2,2,2,3,3,3,3,3,3\n",
        "3,3,3,3,2,2,2,2,2,3,3,3,3,3,3,2,3,3,2,2\n",
        "2,3,2,3,2,2,3,3,2,2,2,2,2,2,2,2,2,3,2,2\n",
        "2,3,3,4,3,3,3,2,3,2,4,3,4,3,3,2,3,3,3,3\n",
        "3,3,1,2,3,2,3,3,2,2,2,2,2,2,2,2,1,3,2,1\n",
        "3,2,3,2,3,2,2,2,2,2,2,3,3,2,2,3,4,3,2,2\n",
        "3,3,3,4,2,2,2,2,3,2,2,3,3,3,2,3,3,3,2,2\n",
        "2,2,1,2,2,2,1,3,2,2,1,1,1,1,3,2,2,3,2,1\n",
        "3,3,3,3,2,3,3,3,3,2,3,3,3,3,3,2,3,3,2,2\n",
        "2,2,2,3,2,2,1,1,3,3,3,3,2,2,3,2,4,3,2,2\n",
        "3,4,3,4,3,3,4,3,4,3,4,3,4,4,3,3,4,3,3,2\n",
        "2,2,1,3,2,2,2,2,3,3,2,2,1,1,3,3,3,2,2,1\n",
        "2,1,1,1,2,2,1,1,2,2,2,1,1,3,2,1,2,2,1,1\n",
        "1,3,1,3,2,1,1,1,4,2,3,1,1,1,3,3,4,1,3,3\n",
        "\"\"\"\n",
        "\n",
        "# Convert the string to a list of lists\n",
        "your_data = [list(map(int, line.split(','))) for line in your_data.strip().split('\\n')]\n",
        "\n",
        "# Convert the list of lists to a NumPy array\n",
        "your_array = np.array(your_data)\n",
        "\n",
        "# Convert the array to a DataFrame\n",
        "your_df = pd.DataFrame(your_array)\n",
        "\n",
        "# Calculate Cronbach's Alpha\n",
        "alpha = cronbach_alpha(your_df)\n",
        "\n",
        "# Print the result\n",
        "print(\"Cronbach's Alpha:\", alpha)\n"
      ],
      "metadata": {
        "colab": {
          "base_uri": "https://localhost:8080/"
        },
        "id": "-x7_VaU5AjMH",
        "outputId": "a1a44934-d2f6-4006-b670-939497db9954"
      },
      "execution_count": null,
      "outputs": [
        {
          "output_type": "stream",
          "name": "stdout",
          "text": [
            "Cronbach's Alpha: (0.9002805554111378, array([0.836, 0.947]))\n"
          ]
        }
      ]
    },
    {
      "cell_type": "code",
      "source": [
        "import numpy as np\n",
        "import pandas as pd\n",
        "\n",
        "# Replace the given data with your own\n",
        "your_data = \"\"\"\n",
        "1,1,1,3,2,1,0,0,0\n",
        "1,0,1,0,0,0,1,2,0\n",
        "1,0,1,1,1,0,1,0,0\n",
        "1,1,2,2,2,1,2,1,0\n",
        "3,0,3,3,1,0,2,0,0\n",
        "1,1,2,1,1,0,0,0,0\n",
        "1,1,0,1,1,0,0,0,0\n",
        "1,1,2,2,2,1,1,1,0\n",
        "0,0,1,1,0,0,1,0,0\n",
        "1,1,0,2,0,0,0,0,0\n",
        "0,0,0,0,0,0,0,0,0\n",
        "3,2,2,2,1,1,1,0,0\n",
        "3,1,3,3,1,0,0,0,0\n",
        "1,1,0,1,1,1,0,0,0\n",
        "0,1,1,1,1,0,0,0,0\n",
        "1,1,2,2,0,0,0,0,0\n",
        "3,3,3,2,0,3,0,0,1\n",
        "0,0,0,0,0,1,0,0,0\n",
        "1,1,0,2,1,1,0,0,0\n",
        "0,0,0,0,0,0,0,0,0\n",
        "1,0,1,0,0,0,0,0,0\n",
        "0,1,1,3,1,1,0,0,0\n",
        "1,1,1,1,0,0,1,0,0\n",
        "1,1,1,2,0,1,1,0,0\n",
        "1,1,0,0,0,1,0,0,0\n",
        "1,0,0,0,0,0,0,0,0\n",
        "2,2,1,2,0,2,2,1,0\n",
        "\"\"\"\n",
        "\n",
        "# Convert the string to a list of lists\n",
        "your_data = [list(map(int, line.split(','))) for line in your_data.strip().split('\\n')]\n",
        "\n",
        "# Convert the list of lists to a NumPy array\n",
        "your_array = np.array(your_data)\n",
        "\n",
        "# Convert the array to a DataFrame\n",
        "your_df = pd.DataFrame(your_array)\n",
        "\n",
        "# Calculate Cronbach's Alpha\n",
        "alpha = cronbach_alpha(your_df)\n",
        "\n",
        "# Print the result\n",
        "print(\"Cronbach's Alpha:\", alpha)\n",
        "\n"
      ],
      "metadata": {
        "colab": {
          "base_uri": "https://localhost:8080/"
        },
        "outputId": "f111b7de-7cdc-4e9c-adfe-7e60dd81db4f",
        "id": "pGWkoLvpR9Y9"
      },
      "execution_count": null,
      "outputs": [
        {
          "output_type": "stream",
          "name": "stdout",
          "text": [
            "Cronbach's Alpha: (0.7854014598540147, array([0.639, 0.888]))\n"
          ]
        }
      ]
    },
    {
      "cell_type": "markdown",
      "source": [],
      "metadata": {
        "id": "nYamn9COmtcY"
      }
    }
  ]
}