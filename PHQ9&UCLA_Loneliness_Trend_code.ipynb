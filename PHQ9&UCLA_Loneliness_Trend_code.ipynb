import matplotlib.pyplot as plt
import numpy as np

# Provided data
data = [
    ("Bondee", [49, 44, 58, 50, 13, 13, 12, 9]),
    ("Bondee", [60, 62, 57, 56, 5, 5, 8, 5]),
    ("Bondee", [50, 44, 42, 48, 15, 6, 5, 5]),
    ("Woebot", [48, 38, 40, 45, 12, 17, 11, 6]),
    ("Woebot", [39, 37, 44, 34, 4, 5, 5, 4]),
    ("Woebot", [39, 32, 31, 33, 2, 1, 1, 0]),
    ("Woebot", [58, 57, 61, 62, 15, 11, 13, 12]),
    ("Woebot", [61, 67, 61, 52, 14, 6, 4, 4]),
    ("Woebot", [53, 36, 49, 43, 4, 2, 5, 6]),
    ("Woebot", [59, 60, 58, 61, 9, 8, 12, 11]),
    ("Woebot", [60, 54, 59, 43, 3, 1, 2, 1]),
    ("Woebot", [69, 59, 66, 59, 7, 7, 5, 15]),
    ("Woebot", [47, 56, 52, 50, 15, 17, 14, 12]),
    ("Woebot", [47, 49, 45, 50, 7, 6, 6, 4]),
    ("Woebot", [45, 43, 46, 53, 7, 3, 7, 11]),
    ("Woebot", [43, 47, 49, 48, 5, 3, 9, 3]),
    ("Woebot", [52, 48, 49, 45, 16, 11, 15, 12]),
    ("Woebot", [47, 43, 33, 49, 13, 7, 7, 5]),
    ("Happify", [62, 57, 57, 49, 14, 19, 13, 6]),
    ("Happify", [63, 67, 62, 67, 10, 6, 4, 7]),
    ("Happify", [42, 50, 39, 36, 5, 6, 1, 2]),
    ("Happify", [45, 43, 44, 42, 3, 5, 3, 3]),
    ("Happify", [50, 44, 45, 42, 11, 6, 3, 12]),
    ("Happify", [55, 60, 47, 47, 9, 11, 7, 5]),
    ("Happify", [39, 32, 24, 31, 7, 3, 3, 1]),
    ("Happify", [48, 44, 50, 52, 4, 1, 2, 0]),
    ("Happify", [59, 51, 51, 55, 12, 4, 9, 7]),
]

# Organizing data for plotting
# UCLA Loneliness Scale categories (첫 4개 컬럼)
ucla_categories = [
    "UCLA Loneliness baseline",
    "UCLA Loneliness 1-month follow-up",
    "UCLA Loneliness 2-month follow-up",
    "UCLA Loneliness Scale score after the intervention",
]

# PHQ-9 categories (마지막 4개 컬럼) - 수정된 부분
phq9_categories = [
    "PHQ-9 baseline",
    "PHQ-9 1-month follow-up", 
    "PHQ-9 2-month follow-up",
    "PHQ-9 score after the intervention",
]

# Extracting data for each app
bondee_data = np.array([item[1] for item in data if item[0] == "Bondee"])
woebot_data = np.array([item[1] for item in data if item[0] == "Woebot"])
happify_data = np.array([item[1] for item in data if item[0] == "Happify"])

# Calculate means and standard deviations for UCLA Loneliness Scale score
bondee_ucla_mean, bondee_ucla_std = np.mean(bondee_data[:, :4], axis=0), np.std(bondee_data[:, :4], axis=0)
woebot_ucla_mean, woebot_ucla_std = np.mean(woebot_data[:, :4], axis=0), np.std(woebot_data[:, :4], axis=0)
happify_ucla_mean, happify_ucla_std = np.mean(happify_data[:, :4], axis=0), np.std(happify_data[:, :4], axis=0)

# Plotting UCLA Loneliness Scale scores
bar_width = 0.2
x_ucla = np.arange(len(ucla_categories))

fig, ax = plt.subplots(figsize=(12, 8))

ax.bar(x_ucla - bar_width, bondee_ucla_mean, width=bar_width, yerr=bondee_ucla_std, label="Bondee: UCLA", color='tab:blue')
ax.bar(x_ucla, woebot_ucla_mean, width=bar_width, yerr=woebot_ucla_std, label="Woebot: UCLA", color='tab:orange')
ax.bar(x_ucla + bar_width, happify_ucla_mean, width=bar_width, yerr=happify_ucla_std, label="Happify: UCLA", color='tab:green')

# Adding labels and legend
ax.set_xticks(x_ucla)
ax.set_xticklabels(ucla_categories)
ax.legend()

# Rotating x-axis labels for better visibility
plt.xticks(rotation=45, ha="right")

# Show the plot
plt.title("UCLA Loneliness Scale Score Trend")
plt.tight_layout()
plt.show()

# Calculate means and standard deviations for PHQ-9
bondee_phq9_mean, bondee_phq9_std = np.mean(bondee_data[:, 4:], axis=0), np.std(bondee_data[:, 4:], axis=0)
woebot_phq9_mean, woebot_phq9_std = np.mean(woebot_data[:, 4:], axis=0), np.std(woebot_data[:, 4:], axis=0)
happify_phq9_mean, happify_phq9_std = np.mean(happify_data[:, 4:], axis=0), np.std(happify_data[:, 4:], axis=0)

# Plotting PHQ-9 scores - 수정된 부분
x_phq9 = np.arange(len(phq9_categories))  # PHQ-9용 x축 변수 분리

fig, ax = plt.subplots(figsize=(12, 8))

ax.bar(x_phq9 - bar_width, bondee_phq9_mean, width=bar_width, yerr=bondee_phq9_std, label="Bondee: PHQ-9", color='tab:blue')
ax.bar(x_phq9, woebot_phq9_mean, width=bar_width, yerr=woebot_phq9_std, label="Woebot: PHQ-9", color='tab:orange')
ax.bar(x_phq9 + bar_width, happify_phq9_mean, width=bar_width, yerr=happify_phq9_std, label="Happify: PHQ-9", color='tab:green')

# Adding labels and legend - 수정된 부분
ax.set_xticks(x_phq9)
ax.set_xticklabels(phq9_categories)  # PHQ-9 카테고리 사용
ax.legend()

# Rotating x-axis labels for better visibility
plt.xticks(rotation=45, ha="right")

# Show the plot
plt.title("PHQ-9 Trend Chart")
plt.tight_layout()
plt.show()
